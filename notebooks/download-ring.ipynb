{
 "cells": [
  {
   "cell_type": "code",
   "execution_count": 1,
   "metadata": {},
   "outputs": [],
   "source": [
    "%reload_ext autoreload\n",
    "%autoreload 2\n",
    "%matplotlib inline\n",
    "\n",
    "from fastai.vision import *\n",
    "from fastai.metrics import error_rate\n",
    "from ring_doorbell import Ring\n",
    "from datetime import datetime\n",
    "\n",
    "import os, sys, glob, shutil\n",
    "import subprocess\n",
    "import binascii\n"
   ]
  },
  {
   "cell_type": "code",
   "execution_count": 2,
   "metadata": {},
   "outputs": [],
   "source": [
    "myring = Ring('', '')\n",
    "\n",
    "if myring.is_connected:\n",
    "  doorbell = myring.doorbells[0]\n",
    "else:\n",
    "  exit\n",
    "\n",
    "#for event in doorbell.history(limit=100, kind='motion'):\n",
    "#  print(\"ID:       {0}_{1}.mgp4\".format(event['id'], str(datetime.fromisoformat( str(event['created_at']) ).timestamp())[0:-2] ))\n"
   ]
  },
  {
   "cell_type": "code",
   "execution_count": null,
   "metadata": {},
   "outputs": [],
   "source": [
    "events = []\n",
    "counter = 0\n",
    "history = doorbell.history(limit=100)\n",
    "while (len(history) > 0):\n",
    "  events += history\n",
    "  counter += len(history)\n",
    "  history = doorbell.history(older_than=history[-1]['id'])\n",
    "\n",
    "motion = len([m['kind'] for m in events if m['kind'] == 'motion'])\n",
    "ding = len([m['kind'] for m in events if m['kind'] == 'ding'])\n",
    "on_demand = len([m['kind'] for m in events if m['kind'] == 'on_demand'])\n",
    "\n",
    "print(\"\\tTotal videos: {}\".format(counter))\n",
    "print(\"\\tDing triggered: {}\".format(ding))\n",
    "print(\"\\tMotion triggered: {}\".format(motion))\n",
    "print(\"\\tOn-Demand triggered: {}\".format(on_demand))\n"
   ]
  },
  {
   "cell_type": "code",
   "execution_count": 8,
   "metadata": {},
   "outputs": [
    {
     "name": "stdout",
     "output_type": "stream",
     "text": [
      "\t6672780415069202652_1553627759.mgp4\n",
      "\t6672777357052487900_1553627047.mgp4\n",
      "\t6672775767914588380_1553626677.mgp4\n",
      "\t6672775059244984540_1553626512.mgp4\n",
      "\t6672774221726361820_1553626317.mgp4\n",
      "\t6672773616135973084_1553626176.mgp4\n",
      "\t6672772224566569180_1553625852.mgp4\n",
      "\t6672771795069839580_1553625752.mgp4\n",
      "\t6672770747097819356_1553625508.mgp4\n",
      "\t6672770455040043228_1553625440.mgp4\n"
     ]
    }
   ],
   "source": [
    "\n",
    "for events in doorbell.history(limit=10):\n",
    "  print(\"\\t{}_{}.mgp4\".format(events['id'], str(datetime.fromisoformat( str(events['created_at']) ).timestamp())[0:-2] ))\n"
   ]
  },
  {
   "cell_type": "code",
   "execution_count": null,
   "metadata": {},
   "outputs": [],
   "source": [
    "def extract_frame_list(filename, frame_list, saved_directory=\"saved\"):\n",
    "    frame_list = sorted(frame_list, key=lambda x: x['frame_number'])\n",
    "    if not os.path.exists(saved_directory):\n",
    "        os.makedirs(saved_directory)\n",
    "    frames_used = []\n",
    "    frames_used.append(frame_list[0]['frame_number'])\n",
    "    portion = \"select=\\'eq(n\\,{})\".format(frame_list[0]['frame_number'])\n",
    "    for instance in frame_list[1:]:\n",
    "        while instance['frame_number'] in frames_used:\n",
    "            instance['frame_number'] += 1\n",
    "        frame_index = int(instance['frame_number'])\n",
    "        portion += '+eq(n\\,{})'.format(frame_index)\n",
    "        frames_used.append(frame_index)\n",
    "    portion += \"\\'\"\n",
    "    print(\"portion = \", portion)\n",
    "    random_string = binascii.b2a_hex(os.urandom(5)).decode()\n",
    "    command_list =  [\"ffmpeg\", \"-i\", filename, \"-qscale:v\", \"1\", \"-vf\", portion, \"-vsync\", \"0\", \"{}/{}_frames%d.jpg\".format(saved_directory, random_string)]\n",
    "    print(command_list)\n",
    "    subprocess.call(command_list)\n",
    "    for i in range(1, len(frame_list)+1):\n",
    "        os.rename(\"{}/{}_frames{}.jpg\".format(saved_directory, random_string,i), os.path.join(saved_directory, frame_list[i-1]['filename']))\n",
    "    return len(frame_list)"
   ]
  }
 ],
 "metadata": {
  "kernelspec": {
   "display_name": "Python 3",
   "language": "python",
   "name": "python3"
  },
  "language_info": {
   "codemirror_mode": {
    "name": "ipython",
    "version": 3
   },
   "file_extension": ".py",
   "mimetype": "text/x-python",
   "name": "python",
   "nbconvert_exporter": "python",
   "pygments_lexer": "ipython3",
   "version": "3.7.2"
  }
 },
 "nbformat": 4,
 "nbformat_minor": 2
}
